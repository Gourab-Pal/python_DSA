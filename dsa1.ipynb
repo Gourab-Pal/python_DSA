{
 "cells": [
  {
   "cell_type": "markdown",
   "metadata": {},
   "source": [
    "Create a list by picking an odd-index items from the first list and even index items from the second"
   ]
  },
  {
   "cell_type": "markdown",
   "metadata": {},
   "source": [
    "l1 = [3, 6, 9, 12, 15, 18, 21]\n",
    "\n",
    "l2 = [4, 8, 12, 16, 20, 24, 28]\n",
    "\n",
    "Element at odd-index positions from list one\n",
    "[6, 12, 18]\n",
    "\n",
    "Element at even-index positions from list two\n",
    "[4, 12, 20, 28]\n",
    "\n",
    "Printing Final third list\n",
    "[6, 12, 18, 4, 12, 20, 28]"
   ]
  },
  {
   "cell_type": "code",
   "execution_count": 1,
   "metadata": {},
   "outputs": [],
   "source": [
    "l1 = [3, 6, 9, 12, 15, 18, 21]\n",
    "l2 = [4, 8, 12, 16, 20, 24, 28]"
   ]
  },
  {
   "cell_type": "code",
   "execution_count": 3,
   "metadata": {},
   "outputs": [
    {
     "name": "stdout",
     "output_type": "stream",
     "text": [
      "[6, 12, 18, 4, 12, 20, 28]\n"
     ]
    }
   ],
   "source": [
    "odd_indexed_list, even_indexed_list = [], []\n",
    "\n",
    "for i in range(len(l1)):\n",
    "    if(i%2==1):\n",
    "        odd_indexed_list.append(l1[i])\n",
    "\n",
    "for j in range(len(l2)):\n",
    "    if(j%2==0):\n",
    "        even_indexed_list.append(l2[j])\n",
    "\n",
    "print(odd_indexed_list + even_indexed_list)"
   ]
  }
 ],
 "metadata": {
  "kernelspec": {
   "display_name": "Python 3",
   "language": "python",
   "name": "python3"
  },
  "language_info": {
   "codemirror_mode": {
    "name": "ipython",
    "version": 3
   },
   "file_extension": ".py",
   "mimetype": "text/x-python",
   "name": "python",
   "nbconvert_exporter": "python",
   "pygments_lexer": "ipython3",
   "version": "3.11.9"
  }
 },
 "nbformat": 4,
 "nbformat_minor": 2
}
