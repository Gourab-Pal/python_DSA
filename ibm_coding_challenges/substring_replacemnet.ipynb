{
 "cells": [
  {
   "cell_type": "markdown",
   "metadata": {},
   "source": [
    "<a href=\"https://youtu.be/jGqkQaiHW-w?si=3-wZoxaFZMdig4k8\"> youtube link</a>"
   ]
  },
  {
   "cell_type": "code",
   "execution_count": 6,
   "metadata": {},
   "outputs": [],
   "source": [
    "def replace(word, substr):\n",
    "    start = 0\n",
    "    end = len(substr)\n",
    "    window = len(word) - len(substr) + 1\n",
    "    flag = 0\n",
    "    for i in range(window):\n",
    "        temp = word[start:end]\n",
    "        if (\"?\" in temp):\n",
    "            for j in range(len(temp)):\n",
    "                if temp[j]==\"?\":\n",
    "                    temp[j]=substr[j]\n",
    "            if temp==substr:\n",
    "                flag = 1\n",
    "                break;\n",
    "        \n",
    "        else:\n",
    "            start = start + 1\n",
    "            end = end + 1\n",
    "\n",
    "    if flag==1:\n",
    "        return word\n",
    "    else:\n",
    "        return \"-1\""
   ]
  },
  {
   "cell_type": "code",
   "execution_count": 7,
   "metadata": {},
   "outputs": [
    {
     "ename": "TypeError",
     "evalue": "'str' object does not support item assignment",
     "output_type": "error",
     "traceback": [
      "\u001b[1;31m---------------------------------------------------------------------------\u001b[0m",
      "\u001b[1;31mTypeError\u001b[0m                                 Traceback (most recent call last)",
      "Cell \u001b[1;32mIn[7], line 5\u001b[0m\n\u001b[0;32m      2\u001b[0m substr \u001b[38;5;241m=\u001b[39m \u001b[38;5;124m\"\u001b[39m\u001b[38;5;124mdbk\u001b[39m\u001b[38;5;124m\"\u001b[39m\n\u001b[0;32m      4\u001b[0m \u001b[38;5;66;03m# expected output = asdbkeagf\u001b[39;00m\n\u001b[1;32m----> 5\u001b[0m \u001b[43mreplace\u001b[49m\u001b[43m(\u001b[49m\u001b[43mword\u001b[49m\u001b[43m,\u001b[49m\u001b[43m \u001b[49m\u001b[43msubstr\u001b[49m\u001b[43m)\u001b[49m\n",
      "Cell \u001b[1;32mIn[6], line 11\u001b[0m, in \u001b[0;36mreplace\u001b[1;34m(word, substr)\u001b[0m\n\u001b[0;32m      9\u001b[0m \u001b[38;5;28;01mfor\u001b[39;00m j \u001b[38;5;129;01min\u001b[39;00m \u001b[38;5;28mrange\u001b[39m(\u001b[38;5;28mlen\u001b[39m(temp)):\n\u001b[0;32m     10\u001b[0m     \u001b[38;5;28;01mif\u001b[39;00m temp[j]\u001b[38;5;241m==\u001b[39m\u001b[38;5;124m\"\u001b[39m\u001b[38;5;124m?\u001b[39m\u001b[38;5;124m\"\u001b[39m:\n\u001b[1;32m---> 11\u001b[0m         \u001b[43mtemp\u001b[49m\u001b[43m[\u001b[49m\u001b[43mj\u001b[49m\u001b[43m]\u001b[49m\u001b[38;5;241m=\u001b[39msubstr[j]\n\u001b[0;32m     12\u001b[0m \u001b[38;5;28;01mif\u001b[39;00m temp\u001b[38;5;241m==\u001b[39msubstr:\n\u001b[0;32m     13\u001b[0m     flag \u001b[38;5;241m=\u001b[39m \u001b[38;5;241m1\u001b[39m\n",
      "\u001b[1;31mTypeError\u001b[0m: 'str' object does not support item assignment"
     ]
    }
   ],
   "source": [
    "word = \"as?b?e?gf\"\n",
    "substr = \"dbk\"\n",
    "\n",
    "# expected output = asdbkeagf\n",
    "replace(word, substr)"
   ]
  }
 ],
 "metadata": {
  "kernelspec": {
   "display_name": "Python 3",
   "language": "python",
   "name": "python3"
  },
  "language_info": {
   "codemirror_mode": {
    "name": "ipython",
    "version": 3
   },
   "file_extension": ".py",
   "mimetype": "text/x-python",
   "name": "python",
   "nbconvert_exporter": "python",
   "pygments_lexer": "ipython3",
   "version": "3.11.9"
  }
 },
 "nbformat": 4,
 "nbformat_minor": 2
}
