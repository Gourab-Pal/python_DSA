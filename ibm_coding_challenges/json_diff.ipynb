{
 "cells": [
  {
   "cell_type": "markdown",
   "metadata": {},
   "source": [
    "<a href=\"https://youtu.be/l5zNJfPPTZM?si=5Ek6fFiJvVPI_jMY\"> youtube </a>"
   ]
  },
  {
   "cell_type": "code",
   "execution_count": 5,
   "metadata": {},
   "outputs": [
    {
     "data": {
      "text/plain": [
       "['hi']"
      ]
     },
     "execution_count": 5,
     "metadata": {},
     "output_type": "execute_result"
    }
   ],
   "source": [
    "def getJSONDiff(json1, json2):\n",
    "    diff_key = []\n",
    "    for key1 in json1:\n",
    "        if (key1 in json2):\n",
    "            if json1[key1] != json2[key1]:\n",
    "                diff_key.append(key1)\n",
    "    return diff_key\n",
    "\n",
    "\n",
    "json1 = {\n",
    "    \"hello\" : \"world\",\n",
    "    \"hi\" : \"hello\",\n",
    "    \"you\" : \"me\"\n",
    "}\n",
    "\n",
    "json2 = {\n",
    "    \"hello\" : \"world\",\n",
    "    \"hi\" : \"helloo\",\n",
    "    \"you\" : \"me\"\n",
    "}\n",
    "\n",
    "getJSONDiff(json1, json2)"
   ]
  }
 ],
 "metadata": {
  "kernelspec": {
   "display_name": "Python 3",
   "language": "python",
   "name": "python3"
  },
  "language_info": {
   "codemirror_mode": {
    "name": "ipython",
    "version": 3
   },
   "file_extension": ".py",
   "mimetype": "text/x-python",
   "name": "python",
   "nbconvert_exporter": "python",
   "pygments_lexer": "ipython3",
   "version": "3.11.9"
  }
 },
 "nbformat": 4,
 "nbformat_minor": 2
}
