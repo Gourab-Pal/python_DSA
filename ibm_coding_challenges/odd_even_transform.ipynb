{
 "cells": [
  {
   "cell_type": "markdown",
   "metadata": {},
   "source": [
    "<a href=\"https://youtu.be/Q-iAGdf03fE?si=rzBm43r5qOUAeQ1E\"> youtube </a>"
   ]
  },
  {
   "cell_type": "code",
   "execution_count": 1,
   "metadata": {},
   "outputs": [
    {
     "data": {
      "text/plain": [
       "[6, 1, 12]"
      ]
     },
     "execution_count": 1,
     "metadata": {},
     "output_type": "execute_result"
    }
   ],
   "source": [
    "def transform(arr):\n",
    "    n = len(arr)\n",
    "    for i in range(n):\n",
    "        if arr[i]%2==1:\n",
    "            arr[i] = arr[i] + 3\n",
    "        else:\n",
    "            arr[i] = arr[i] - 3\n",
    "    return arr\n",
    "\n",
    "transform([3,4,9])"
   ]
  }
 ],
 "metadata": {
  "kernelspec": {
   "display_name": "Python 3",
   "language": "python",
   "name": "python3"
  },
  "language_info": {
   "codemirror_mode": {
    "name": "ipython",
    "version": 3
   },
   "file_extension": ".py",
   "mimetype": "text/x-python",
   "name": "python",
   "nbconvert_exporter": "python",
   "pygments_lexer": "ipython3",
   "version": "3.11.9"
  }
 },
 "nbformat": 4,
 "nbformat_minor": 2
}
