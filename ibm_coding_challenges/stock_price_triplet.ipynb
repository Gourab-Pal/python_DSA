{
 "cells": [
  {
   "cell_type": "markdown",
   "metadata": {},
   "source": [
    "<a href=\"https://youtu.be/UT8MiNJb96s?si=-nHrp9-cKihc4r6p\"> youtube </a>"
   ]
  },
  {
   "cell_type": "code",
   "execution_count": 6,
   "metadata": {},
   "outputs": [
    {
     "data": {
      "text/plain": [
       "3"
      ]
     },
     "execution_count": 6,
     "metadata": {},
     "output_type": "execute_result"
    }
   ],
   "source": [
    "def triplet(arr, d):\n",
    "    n = len(arr)\n",
    "    counter = 0\n",
    "    triplet_arr = []\n",
    "    for i in range(0,n-2,1):\n",
    "        for j in range(i+1, n-1, 1):\n",
    "            for k in range(i+2, n, 1):\n",
    "                triplet_arr.append([i,j,k])\n",
    "    for t in triplet_arr:\n",
    "        if sum(t)%d == 0:\n",
    "            counter = counter + 1\n",
    "    return counter\n",
    "\n",
    "triplet([3,3,4,7,8], 5)"
   ]
  }
 ],
 "metadata": {
  "kernelspec": {
   "display_name": "Python 3",
   "language": "python",
   "name": "python3"
  },
  "language_info": {
   "codemirror_mode": {
    "name": "ipython",
    "version": 3
   },
   "file_extension": ".py",
   "mimetype": "text/x-python",
   "name": "python",
   "nbconvert_exporter": "python",
   "pygments_lexer": "ipython3",
   "version": "3.11.9"
  }
 },
 "nbformat": 4,
 "nbformat_minor": 2
}
