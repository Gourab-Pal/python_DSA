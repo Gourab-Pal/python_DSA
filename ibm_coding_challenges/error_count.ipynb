{
 "cells": [
  {
   "cell_type": "markdown",
   "metadata": {},
   "source": [
    "<a href=\"https://youtu.be/vsASe-LQLEg?si=tZiAssCh2lnUBo69\"> youtube </a>"
   ]
  },
  {
   "cell_type": "code",
   "execution_count": 2,
   "metadata": {},
   "outputs": [
    {
     "data": {
      "text/plain": [
       "2"
      ]
     },
     "execution_count": 2,
     "metadata": {},
     "output_type": "execute_result"
    }
   ],
   "source": [
    "def priceCheck(prod, actual, prodSold, priceSold):\n",
    "    error = 0\n",
    "    shop = dict(zip(prod, actual))\n",
    "    for i in range(len(prodSold)):\n",
    "        actual_price = shop[prodSold[i]]\n",
    "        sold_price = priceSold[i]\n",
    "        if actual_price != sold_price:\n",
    "            error += 1\n",
    "    return error\n",
    "\n",
    "products = [\"eggs\", \"milk\", \"cheese\"]\n",
    "productPrices = [2.89, 3.29, 5.79]\n",
    "productSold = [\"eggs\", \"eggs\", \"cheese\", \"milk\"]\n",
    "soldPrice = [2.89, 2.99, 5.97, 3.29]\n",
    "\n",
    "priceCheck(products, productPrices, productSold, soldPrice)"
   ]
  }
 ],
 "metadata": {
  "kernelspec": {
   "display_name": "Python 3",
   "language": "python",
   "name": "python3"
  },
  "language_info": {
   "codemirror_mode": {
    "name": "ipython",
    "version": 3
   },
   "file_extension": ".py",
   "mimetype": "text/x-python",
   "name": "python",
   "nbconvert_exporter": "python",
   "pygments_lexer": "ipython3",
   "version": "3.11.9"
  }
 },
 "nbformat": 4,
 "nbformat_minor": 2
}
