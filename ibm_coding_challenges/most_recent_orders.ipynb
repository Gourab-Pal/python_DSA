{
 "cells": [
  {
   "cell_type": "markdown",
   "metadata": {},
   "source": [
    "<a href=\"https://youtu.be/iUigd0NnL7Y?si=-VYmEefm3H-Q2ok8\"> youtube </a>"
   ]
  },
  {
   "cell_type": "code",
   "execution_count": 4,
   "metadata": {},
   "outputs": [
    {
     "data": {
      "text/plain": [
       "['item3', 'item1', 'item2']"
      ]
     },
     "execution_count": 4,
     "metadata": {},
     "output_type": "execute_result"
    }
   ],
   "source": [
    "def recent(arr, k):\n",
    "    n = len(arr)\n",
    "    result = []\n",
    "    i = n-1\n",
    "    while (len(result)<=k and i>=0):\n",
    "        if (arr[i] not in result):\n",
    "            result.append(arr[i])\n",
    "            i = i - 1\n",
    "        else:\n",
    "            i = i - 1\n",
    "    return result\n",
    "\n",
    "recent([\"item1\", \"item2\", \"item3\", \"item1\", \"item3\"], 3)"
   ]
  }
 ],
 "metadata": {
  "kernelspec": {
   "display_name": "Python 3",
   "language": "python",
   "name": "python3"
  },
  "language_info": {
   "codemirror_mode": {
    "name": "ipython",
    "version": 3
   },
   "file_extension": ".py",
   "mimetype": "text/x-python",
   "name": "python",
   "nbconvert_exporter": "python",
   "pygments_lexer": "ipython3",
   "version": "3.11.9"
  }
 },
 "nbformat": 4,
 "nbformat_minor": 2
}
