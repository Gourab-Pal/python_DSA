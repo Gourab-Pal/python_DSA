{
 "cells": [
  {
   "cell_type": "markdown",
   "metadata": {},
   "source": [
    "<a href=\"https://youtu.be/gjTzUQrV_XA?si=vKuo7QSy-QzQBGrw\"> youtube </a>"
   ]
  },
  {
   "cell_type": "code",
   "execution_count": 9,
   "metadata": {},
   "outputs": [
    {
     "name": "stdout",
     "output_type": "stream",
     "text": [
      "None of these\n"
     ]
    }
   ],
   "source": [
    "def checkTriangle(str):\n",
    "    arr = str.split(\" \")\n",
    "    l1 = int(arr[0])\n",
    "    l2 = int(arr[1])\n",
    "    l3 = int(arr[2])\n",
    "    lengths = [l1,l2,l3]\n",
    "    lengths.sort()\n",
    "    if ((lengths[0]+lengths[1])>lengths[2]):\n",
    "        if((lengths[0]==lengths[1]) & (lengths[0]==lengths[2])):\n",
    "            print(\"Equilateral\")\n",
    "        elif((lengths[0]==lengths[1]) & (lengths[0] != lengths[2])):\n",
    "            print(\"Isosceles\")\n",
    "        elif((lengths[0] != lengths[1]) & (lengths[0]==lengths[2])):\n",
    "            print(\"Isosceles\")\n",
    "        else:\n",
    "            print(\"None of these\")\n",
    "    else:\n",
    "        print(\"None of these\")\n",
    "\n",
    "checkTriangle(\"1 1 3\")"
   ]
  }
 ],
 "metadata": {
  "kernelspec": {
   "display_name": "Python 3",
   "language": "python",
   "name": "python3"
  },
  "language_info": {
   "codemirror_mode": {
    "name": "ipython",
    "version": 3
   },
   "file_extension": ".py",
   "mimetype": "text/x-python",
   "name": "python",
   "nbconvert_exporter": "python",
   "pygments_lexer": "ipython3",
   "version": "3.11.9"
  }
 },
 "nbformat": 4,
 "nbformat_minor": 2
}
