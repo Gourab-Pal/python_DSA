{
 "cells": [
  {
   "cell_type": "markdown",
   "metadata": {},
   "source": [
    "<a href=\"https://youtu.be/Shv-8F9cIJI?si=NgbCI-DB58gKonpf\"> youtube </a>"
   ]
  },
  {
   "cell_type": "code",
   "execution_count": 16,
   "metadata": {},
   "outputs": [
    {
     "data": {
      "text/plain": [
       "3"
      ]
     },
     "execution_count": 16,
     "metadata": {},
     "output_type": "execute_result"
    }
   ],
   "source": [
    "def remv_alpha(str):\n",
    "    s = list(str)\n",
    "    count = 0\n",
    "    while True:\n",
    "        to_remove_left = \"\"\n",
    "        to_remove_right = \"\"\n",
    "        size = len(s)\n",
    "        if size%2==0:\n",
    "            idx = int(size/2)-1\n",
    "        else:\n",
    "            idx = int(size/2)\n",
    "        char = s[idx]\n",
    "        for left in range(idx-1, -1,-1):\n",
    "            if s[left] == char:\n",
    "                to_remove_left = left\n",
    "                break;\n",
    "        for right in range(idx+1, size, 1):\n",
    "            if s[right] == char:\n",
    "                to_remove_right = right\n",
    "                break;\n",
    "        if ((to_remove_left == \"\") & (to_remove_right==\"\")):\n",
    "            return count\n",
    "        \n",
    "        if ((to_remove_left != \"\") & (to_remove_right != \"\")):\n",
    "            s.pop(to_remove_left)\n",
    "            s.pop(to_remove_right-1)\n",
    "            count += 1\n",
    "        if ((to_remove_left != \"\") & (to_remove_right == \"\")):\n",
    "            s.pop(to_remove_left)\n",
    "            count += 1\n",
    "        if ((to_remove_left == \"\") & (to_remove_right != \"\")):\n",
    "            s.pop(to_remove_right)\n",
    "            count += 1\n",
    "\n",
    "    return count\n",
    "\n",
    "remv_alpha(\"baabacaa\")\n"
   ]
  }
 ],
 "metadata": {
  "kernelspec": {
   "display_name": "Python 3",
   "language": "python",
   "name": "python3"
  },
  "language_info": {
   "codemirror_mode": {
    "name": "ipython",
    "version": 3
   },
   "file_extension": ".py",
   "mimetype": "text/x-python",
   "name": "python",
   "nbconvert_exporter": "python",
   "pygments_lexer": "ipython3",
   "version": "3.11.9"
  }
 },
 "nbformat": 4,
 "nbformat_minor": 2
}
