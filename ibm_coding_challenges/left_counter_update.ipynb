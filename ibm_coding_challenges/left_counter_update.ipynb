{
 "cells": [
  {
   "cell_type": "markdown",
   "metadata": {},
   "source": [
    "<a href=\"https://youtu.be/r3ayM0RCeZA?si=YTAb9v4C9H_DUiD5\"> youtube </a>"
   ]
  },
  {
   "cell_type": "code",
   "execution_count": 3,
   "metadata": {},
   "outputs": [
    {
     "data": {
      "text/plain": [
       "[0, -4, -2, 13, -15]"
      ]
     },
     "execution_count": 3,
     "metadata": {},
     "output_type": "execute_result"
    }
   ],
   "source": [
    "def left_counter(arr):\n",
    "    n = len(arr)\n",
    "    counter = []\n",
    "    for i in range(n):\n",
    "        c = 0\n",
    "        if i==0:\n",
    "            counter.append(c)\n",
    "        else:\n",
    "            for j in range(i):\n",
    "                diff = abs(arr[j]-arr[i])\n",
    "                if arr[j]<arr[i]:\n",
    "                    c = c + diff\n",
    "                if arr[j]>arr[i]:\n",
    "                    c = c - diff\n",
    "            counter.append(c)\n",
    "    return counter\n",
    "\n",
    "left_counter([5,1,2,7,0])"
   ]
  }
 ],
 "metadata": {
  "kernelspec": {
   "display_name": "Python 3",
   "language": "python",
   "name": "python3"
  },
  "language_info": {
   "codemirror_mode": {
    "name": "ipython",
    "version": 3
   },
   "file_extension": ".py",
   "mimetype": "text/x-python",
   "name": "python",
   "nbconvert_exporter": "python",
   "pygments_lexer": "ipython3",
   "version": "3.11.9"
  }
 },
 "nbformat": 4,
 "nbformat_minor": 2
}
