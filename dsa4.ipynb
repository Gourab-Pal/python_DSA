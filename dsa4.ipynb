{
 "cells": [
  {
   "cell_type": "markdown",
   "metadata": {},
   "source": [
    "You are given a array of numbers. Your task is to rotate the given array left(anti-clockwise) by 1 units from the starting index. \n",
    "You are required to return the rotated array.\n",
    "\n",
    "Input format\n",
    "\n",
    "First line contains an integer n, the size of the array. Second line contains n integers, the elements of the array.\n",
    "\n",
    "Output format\n",
    "\n",
    "Return the rotated string.\n",
    "\n",
    "Sample Input 1:\n",
    "\n",
    "1 2 3 4 5\n",
    "\n",
    "Sample Output 1:\n",
    "\n",
    "2 3 4 5 1"
   ]
  },
  {
   "cell_type": "code",
   "execution_count": 2,
   "metadata": {},
   "outputs": [
    {
     "name": "stdout",
     "output_type": "stream",
     "text": [
      "[2, 3, 4, 5, 1]\n"
     ]
    }
   ],
   "source": [
    "def leftRotation(arr):\n",
    "    temp = arr[0]\n",
    "    for i in range(0,len(arr)-1):\n",
    "        arr[i] = arr[i+1]\n",
    "    arr[len(arr)-1] = temp\n",
    "    return arr\n",
    "\n",
    "print(leftRotation([1,2,3,4,5]))"
   ]
  },
  {
   "cell_type": "markdown",
   "metadata": {},
   "source": [
    "TC : O(n-1) ~ O(n)\n",
    "\n",
    "SC: O(1)"
   ]
  }
 ],
 "metadata": {
  "kernelspec": {
   "display_name": "Python 3",
   "language": "python",
   "name": "python3"
  },
  "language_info": {
   "codemirror_mode": {
    "name": "ipython",
    "version": 3
   },
   "file_extension": ".py",
   "mimetype": "text/x-python",
   "name": "python",
   "nbconvert_exporter": "python",
   "pygments_lexer": "ipython3",
   "version": "3.11.9"
  }
 },
 "nbformat": 4,
 "nbformat_minor": 2
}
