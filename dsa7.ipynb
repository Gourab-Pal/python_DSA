{
 "cells": [
  {
   "cell_type": "markdown",
   "metadata": {},
   "source": [
    "Given a number n, you have to print a triangle-shaped pattern with n rows using *. The starting row will have one * and will increment by one for each row after it ( two *s in the second row, three *s in the third row, and so on till the nth row)."
   ]
  },
  {
   "cell_type": "code",
   "execution_count": 5,
   "metadata": {},
   "outputs": [
    {
     "name": "stdout",
     "output_type": "stream",
     "text": [
      "*\n",
      "**\n",
      "***\n",
      "****\n"
     ]
    }
   ],
   "source": [
    "def pyramidPrinting(n):\n",
    "    starArray = []\n",
    "    for i in range(n):\n",
    "        if(len(starArray)==0):\n",
    "            starArray.append(\"*\")\n",
    "        else:\n",
    "            starArray.append(starArray[i-1]+\"*\")\n",
    "    \n",
    "    for star in starArray:\n",
    "        print(star)\n",
    "\n",
    "pyramidPrinting(4)"
   ]
  },
  {
   "cell_type": "markdown",
   "metadata": {},
   "source": [
    "TC: O(n)????\n",
    "\n",
    "SC: O(n)????"
   ]
  }
 ],
 "metadata": {
  "kernelspec": {
   "display_name": "Python 3",
   "language": "python",
   "name": "python3"
  },
  "language_info": {
   "codemirror_mode": {
    "name": "ipython",
    "version": 3
   },
   "file_extension": ".py",
   "mimetype": "text/x-python",
   "name": "python",
   "nbconvert_exporter": "python",
   "pygments_lexer": "ipython3",
   "version": "3.11.9"
  }
 },
 "nbformat": 4,
 "nbformat_minor": 2
}
