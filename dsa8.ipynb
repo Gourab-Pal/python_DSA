{
 "cells": [
  {
   "cell_type": "markdown",
   "metadata": {},
   "source": [
    "Problem Description\n",
    "\n",
    "Given an array containing a mix of strings and numbers, such as [a, 1, b, 2, c, d, 3, 4, e], your task is to create a new array that retains only the numbers present in the original array.\n",
    "\n",
    "\n",
    "For example, from the provided array, the output array should contain [1, 2, 3, 4]. The numbers in the original array can be single or multiple digits, and there may be strings interspersed among them.\n",
    "\n",
    "\n",
    "Note: The numbers in the array are also of string type.\n",
    "\n",
    "Input format\n",
    "\n",
    "First line contains an integer N, the number of elements in the input array\n",
    "\n",
    "Second line contains the elements of the input array\n",
    "\n",
    "Output format\n",
    "\n",
    "Return the expected integer array. The order of integers in the input array must be maintained.\n",
    "\n",
    "Sample Input 1\n",
    "\n",
    "8\n",
    "\n",
    "a 3 long 17 crio dsa 100 20\n",
    "\n",
    "Sample Output 1\n",
    "\n",
    "3 17 100 20\n",
    "\n",
    "Explanation\n",
    "\n",
    "The input array contains four integers [3, 17, 100, 20]"
   ]
  },
  {
   "cell_type": "code",
   "execution_count": 4,
   "metadata": {},
   "outputs": [
    {
     "data": {
      "text/plain": [
       "[3, 17, 100, 20]"
      ]
     },
     "execution_count": 4,
     "metadata": {},
     "output_type": "execute_result"
    }
   ],
   "source": [
    "def extractNums(arr):\n",
    "    numArray = []\n",
    "    for i in arr:\n",
    "        if(i.isdigit()):\n",
    "            numArray.append(int(i))\n",
    "    return numArray\n",
    "\n",
    "extractNums([\"a\", \"3\", \"long\", \"17\", \"crio\", \"dsa\", \"100\", \"20\"])"
   ]
  }
 ],
 "metadata": {
  "kernelspec": {
   "display_name": "Python 3",
   "language": "python",
   "name": "python3"
  },
  "language_info": {
   "codemirror_mode": {
    "name": "ipython",
    "version": 3
   },
   "file_extension": ".py",
   "mimetype": "text/x-python",
   "name": "python",
   "nbconvert_exporter": "python",
   "pygments_lexer": "ipython3",
   "version": "3.11.9"
  }
 },
 "nbformat": 4,
 "nbformat_minor": 2
}
